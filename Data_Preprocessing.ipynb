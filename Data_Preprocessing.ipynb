{
  "nbformat": 4,
  "nbformat_minor": 0,
  "metadata": {
    "colab": {
      "name": "Data Preprocessing.ipynb",
      "provenance": [],
      "collapsed_sections": [],
      "authorship_tag": "ABX9TyOP0EgZDtmwrIrZhHE4RqvQ",
      "include_colab_link": true
    },
    "kernelspec": {
      "name": "python3",
      "display_name": "Python 3"
    },
    "language_info": {
      "name": "python"
    }
  },
  "cells": [
    {
      "cell_type": "markdown",
      "metadata": {
        "id": "view-in-github",
        "colab_type": "text"
      },
      "source": [
        "<a href=\"https://colab.research.google.com/github/harshadhosewann/Data-Analytics/blob/main/Data_Preprocessing.ipynb\" target=\"_parent\"><img src=\"https://colab.research.google.com/assets/colab-badge.svg\" alt=\"Open In Colab\"/></a>"
      ]
    },
    {
      "cell_type": "code",
      "metadata": {
        "id": "0hE-Nq8-Vcwp"
      },
      "source": [
        "import pandas as pd\n",
        "df = pd.read_csv(\"data.csv\")"
      ],
      "execution_count": 44,
      "outputs": []
    },
    {
      "cell_type": "code",
      "metadata": {
        "colab": {
          "base_uri": "https://localhost:8080/"
        },
        "id": "d9PAPUgZW_ia",
        "outputId": "7c894b92-c3d0-4bb0-f520-09bd477ab4d6"
      },
      "source": [
        "df.dtypes"
      ],
      "execution_count": 45,
      "outputs": [
        {
          "output_type": "execute_result",
          "data": {
            "text/plain": [
              "Country       object\n",
              "Age          float64\n",
              "Salary       float64\n",
              "Purchased     object\n",
              "dtype: object"
            ]
          },
          "metadata": {
            "tags": []
          },
          "execution_count": 45
        }
      ]
    },
    {
      "cell_type": "code",
      "metadata": {
        "id": "QmRhyh0fW_1H"
      },
      "source": [
        "X = df.iloc[:,:-1].values\n",
        "Y = df.iloc[:,-1].values "
      ],
      "execution_count": 46,
      "outputs": []
    },
    {
      "cell_type": "code",
      "metadata": {
        "colab": {
          "base_uri": "https://localhost:8080/"
        },
        "id": "RadpdZw9W_7a",
        "outputId": "cf033cd4-dede-4239-f567-fbd54971d40a"
      },
      "source": [
        "X"
      ],
      "execution_count": 47,
      "outputs": [
        {
          "output_type": "execute_result",
          "data": {
            "text/plain": [
              "array([['France ', 44.0, 72000.0],\n",
              "       ['Spain', 27.0, 50000.0],\n",
              "       ['Germany', 30.0, 60000.0],\n",
              "       ['Spain', 38.0, 61000.0],\n",
              "       ['Germany', 40.0, nan],\n",
              "       ['France ', 35.0, 58000.0],\n",
              "       ['Spain', nan, 52000.0],\n",
              "       ['France ', 8.0, 79000.0],\n",
              "       ['Germany', 50.0, 87000.0],\n",
              "       ['France ', 37.0, 67000.0]], dtype=object)"
            ]
          },
          "metadata": {
            "tags": []
          },
          "execution_count": 47
        }
      ]
    },
    {
      "cell_type": "code",
      "metadata": {
        "colab": {
          "base_uri": "https://localhost:8080/"
        },
        "id": "7zUiIw4YXACI",
        "outputId": "58d0e45c-6af0-43bd-b9f3-438f7e23237f"
      },
      "source": [
        "Y"
      ],
      "execution_count": 48,
      "outputs": [
        {
          "output_type": "execute_result",
          "data": {
            "text/plain": [
              "array(['No', 'Yes', 'No', 'No', 'Yes', 'Yes', 'No', 'Yes', 'No', 'Yes'],\n",
              "      dtype=object)"
            ]
          },
          "metadata": {
            "tags": []
          },
          "execution_count": 48
        }
      ]
    },
    {
      "cell_type": "markdown",
      "metadata": {
        "id": "wyjfRKjcbv3k"
      },
      "source": [
        "**Encoding categorical data**"
      ]
    },
    {
      "cell_type": "markdown",
      "metadata": {
        "id": "Oapx8KPPbgxW"
      },
      "source": [
        "**Encoding the independent data**\n",
        "\n",
        "\n"
      ]
    },
    {
      "cell_type": "code",
      "metadata": {
        "id": "FSra9LrpXAIT"
      },
      "source": [
        "import numpy as np\n",
        "from sklearn.impute import SimpleImputer\n",
        "imputer = SimpleImputer(missing_values=np.nan , strategy = \"mean\")\n",
        "imputer.fit(X[:,1:3])\n",
        "X[:,1:3] = imputer.transform(X[:,1:3])"
      ],
      "execution_count": 49,
      "outputs": []
    },
    {
      "cell_type": "code",
      "metadata": {
        "colab": {
          "base_uri": "https://localhost:8080/"
        },
        "id": "06uzi5BzmUu7",
        "outputId": "70721b1d-3bee-4d94-c9b9-dff22fee7f78"
      },
      "source": [
        "X"
      ],
      "execution_count": 50,
      "outputs": [
        {
          "output_type": "execute_result",
          "data": {
            "text/plain": [
              "array([['France ', 44.0, 72000.0],\n",
              "       ['Spain', 27.0, 50000.0],\n",
              "       ['Germany', 30.0, 60000.0],\n",
              "       ['Spain', 38.0, 61000.0],\n",
              "       ['Germany', 40.0, 65111.11111111111],\n",
              "       ['France ', 35.0, 58000.0],\n",
              "       ['Spain', 34.333333333333336, 52000.0],\n",
              "       ['France ', 8.0, 79000.0],\n",
              "       ['Germany', 50.0, 87000.0],\n",
              "       ['France ', 37.0, 67000.0]], dtype=object)"
            ]
          },
          "metadata": {
            "tags": []
          },
          "execution_count": 50
        }
      ]
    },
    {
      "cell_type": "markdown",
      "metadata": {
        "id": "AEUxc3DYa6wh"
      },
      "source": [
        "**Encoding the dependent variable** \n"
      ]
    },
    {
      "cell_type": "code",
      "metadata": {
        "id": "NmcHiMRlXANv"
      },
      "source": [
        "from sklearn.preprocessing import LabelEncoder\n",
        "\n",
        "le = LabelEncoder()\n",
        "Y = le.fit_transform(Y)"
      ],
      "execution_count": 51,
      "outputs": []
    },
    {
      "cell_type": "code",
      "metadata": {
        "colab": {
          "base_uri": "https://localhost:8080/"
        },
        "id": "0zl0LqpaXAQ7",
        "outputId": "d26746c9-463e-4ffd-caf5-428780628c38"
      },
      "source": [
        "Y"
      ],
      "execution_count": 52,
      "outputs": [
        {
          "output_type": "execute_result",
          "data": {
            "text/plain": [
              "array([0, 1, 0, 0, 1, 1, 0, 1, 0, 1])"
            ]
          },
          "metadata": {
            "tags": []
          },
          "execution_count": 52
        }
      ]
    },
    {
      "cell_type": "code",
      "metadata": {
        "id": "GthKctsemrvQ"
      },
      "source": [
        "from sklearn.compose import ColumnTransformer\n",
        "from sklearn.preprocessing import OneHotEncoder\n",
        "ct = ColumnTransformer(transformers= [(\"encoder\",OneHotEncoder(),[0])], remainder = \"passthrough\")\n",
        "X = np.array(ct.fit_transform(X))"
      ],
      "execution_count": 53,
      "outputs": []
    },
    {
      "cell_type": "code",
      "metadata": {
        "colab": {
          "base_uri": "https://localhost:8080/"
        },
        "id": "6Y0NNdzDn-gK",
        "outputId": "bd4228a3-76d2-4a44-e6f0-9d8293c55c04"
      },
      "source": [
        "X"
      ],
      "execution_count": 54,
      "outputs": [
        {
          "output_type": "execute_result",
          "data": {
            "text/plain": [
              "array([[1.0, 0.0, 0.0, 44.0, 72000.0],\n",
              "       [0.0, 0.0, 1.0, 27.0, 50000.0],\n",
              "       [0.0, 1.0, 0.0, 30.0, 60000.0],\n",
              "       [0.0, 0.0, 1.0, 38.0, 61000.0],\n",
              "       [0.0, 1.0, 0.0, 40.0, 65111.11111111111],\n",
              "       [1.0, 0.0, 0.0, 35.0, 58000.0],\n",
              "       [0.0, 0.0, 1.0, 34.333333333333336, 52000.0],\n",
              "       [1.0, 0.0, 0.0, 8.0, 79000.0],\n",
              "       [0.0, 1.0, 0.0, 50.0, 87000.0],\n",
              "       [1.0, 0.0, 0.0, 37.0, 67000.0]], dtype=object)"
            ]
          },
          "metadata": {
            "tags": []
          },
          "execution_count": 54
        }
      ]
    },
    {
      "cell_type": "code",
      "metadata": {
        "id": "gx1mX4PnoFBB"
      },
      "source": [
        "from sklearn.preprocessing import LabelEncoder\n",
        "le = LabelEncoder()\n",
        "Y = le.fit_transform(Y)"
      ],
      "execution_count": 55,
      "outputs": []
    },
    {
      "cell_type": "code",
      "metadata": {
        "colab": {
          "base_uri": "https://localhost:8080/"
        },
        "id": "Iw814snOoHGq",
        "outputId": "415980b8-86a2-442b-d3ed-56f0d418c882"
      },
      "source": [
        "Y"
      ],
      "execution_count": 56,
      "outputs": [
        {
          "output_type": "execute_result",
          "data": {
            "text/plain": [
              "array([0, 1, 0, 0, 1, 1, 0, 1, 0, 1])"
            ]
          },
          "metadata": {
            "tags": []
          },
          "execution_count": 56
        }
      ]
    },
    {
      "cell_type": "markdown",
      "metadata": {
        "id": "JH3rpmsPcItS"
      },
      "source": [
        "**Splitting the dataset into Training set and Test set**"
      ]
    },
    {
      "cell_type": "code",
      "metadata": {
        "id": "jUDdTx1qcTSy"
      },
      "source": [
        "from sklearn.model_selection import train_test_split \n",
        "X_train, X_test, Y_train, Y_test =  train_test_split(X,Y,test_size = 0.2, random_state = 1)"
      ],
      "execution_count": 57,
      "outputs": []
    },
    {
      "cell_type": "code",
      "metadata": {
        "colab": {
          "base_uri": "https://localhost:8080/"
        },
        "id": "vI6hb4W2mEmi",
        "outputId": "afb4fce3-e595-4c57-94a0-4219aef694cb"
      },
      "source": [
        "X_train"
      ],
      "execution_count": 58,
      "outputs": [
        {
          "output_type": "execute_result",
          "data": {
            "text/plain": [
              "array([[0.0, 0.0, 1.0, 34.333333333333336, 52000.0],\n",
              "       [0.0, 1.0, 0.0, 40.0, 65111.11111111111],\n",
              "       [1.0, 0.0, 0.0, 44.0, 72000.0],\n",
              "       [0.0, 0.0, 1.0, 38.0, 61000.0],\n",
              "       [0.0, 0.0, 1.0, 27.0, 50000.0],\n",
              "       [1.0, 0.0, 0.0, 8.0, 79000.0],\n",
              "       [0.0, 1.0, 0.0, 50.0, 87000.0],\n",
              "       [1.0, 0.0, 0.0, 35.0, 58000.0]], dtype=object)"
            ]
          },
          "metadata": {
            "tags": []
          },
          "execution_count": 58
        }
      ]
    },
    {
      "cell_type": "code",
      "metadata": {
        "colab": {
          "base_uri": "https://localhost:8080/"
        },
        "id": "EJXm6u6gmEwo",
        "outputId": "012c7778-01d5-4e5e-f1aa-4dc45703987c"
      },
      "source": [
        "X_test"
      ],
      "execution_count": 59,
      "outputs": [
        {
          "output_type": "execute_result",
          "data": {
            "text/plain": [
              "array([[0.0, 1.0, 0.0, 30.0, 60000.0],\n",
              "       [1.0, 0.0, 0.0, 37.0, 67000.0]], dtype=object)"
            ]
          },
          "metadata": {
            "tags": []
          },
          "execution_count": 59
        }
      ]
    },
    {
      "cell_type": "code",
      "metadata": {
        "colab": {
          "base_uri": "https://localhost:8080/"
        },
        "id": "_vmoJhIcmE14",
        "outputId": "79e39f4a-e2a0-4ca7-8fa8-40fec6f65111"
      },
      "source": [
        "Y_train"
      ],
      "execution_count": 60,
      "outputs": [
        {
          "output_type": "execute_result",
          "data": {
            "text/plain": [
              "array([0, 1, 0, 0, 1, 1, 0, 1])"
            ]
          },
          "metadata": {
            "tags": []
          },
          "execution_count": 60
        }
      ]
    },
    {
      "cell_type": "code",
      "metadata": {
        "colab": {
          "base_uri": "https://localhost:8080/"
        },
        "id": "PMAlalahmFUx",
        "outputId": "7517fcc0-6f63-49e6-8ad0-9c8fe932d686"
      },
      "source": [
        "Y_test"
      ],
      "execution_count": 61,
      "outputs": [
        {
          "output_type": "execute_result",
          "data": {
            "text/plain": [
              "array([0, 1])"
            ]
          },
          "metadata": {
            "tags": []
          },
          "execution_count": 61
        }
      ]
    },
    {
      "cell_type": "markdown",
      "metadata": {
        "id": "9NWGwzQgqVCy"
      },
      "source": [
        "**Features Scaling**"
      ]
    },
    {
      "cell_type": "code",
      "metadata": {
        "id": "uYlMsgtfqbM2"
      },
      "source": [
        "from sklearn.preprocessing import StandardScaler\n",
        "sc = StandardScaler()\n",
        "X_train[:,3:] = sc.fit_transform(X_train[:,3:])\n",
        "X_test = sc.transform(X_test[:,3:])"
      ],
      "execution_count": 62,
      "outputs": []
    },
    {
      "cell_type": "code",
      "metadata": {
        "colab": {
          "base_uri": "https://localhost:8080/"
        },
        "id": "5rPMmfPSqbUt",
        "outputId": "2b676412-1a37-4015-f90c-7215271682f3"
      },
      "source": [
        "X_train"
      ],
      "execution_count": 63,
      "outputs": [
        {
          "output_type": "execute_result",
          "data": {
            "text/plain": [
              "array([[0.0, 0.0, 1.0, -0.01751563311064678, -1.1099447448317599],\n",
              "       [0.0, 1.0, 0.0, 0.45890958749894006, -0.03308160082232404],\n",
              "       [1.0, 0.0, 0.0, 0.7952097432233544, 0.5327278477250068],\n",
              "       [0.0, 0.0, 1.0, 0.29075950963673286, -0.37074207818121485],\n",
              "       [0.0, 0.0, 1.0, -0.6340659186054066, -1.2742120040874365],\n",
              "       [1.0, 0.0, 0.0, -2.231491658296375, 1.1076632551198753],\n",
              "       [0.0, 1.0, 0.0, 1.299659976809976, 1.7647322921425819],\n",
              "       [1.0, 0.0, 0.0, 0.03853439284342208, -0.6171429670647298]],\n",
              "      dtype=object)"
            ]
          },
          "metadata": {
            "tags": []
          },
          "execution_count": 63
        }
      ]
    },
    {
      "cell_type": "code",
      "metadata": {
        "colab": {
          "base_uri": "https://localhost:8080/"
        },
        "id": "VxlNBAVvqbc9",
        "outputId": "ffccd826-67eb-407c-c12e-43a7f73edd41"
      },
      "source": [
        "X_test"
      ],
      "execution_count": 64,
      "outputs": [
        {
          "output_type": "execute_result",
          "data": {
            "text/plain": [
              "array([[-0.3818408 , -0.45287571],\n",
              "       [ 0.20668447,  0.1220597 ]])"
            ]
          },
          "metadata": {
            "tags": []
          },
          "execution_count": 64
        }
      ]
    }
  ]
}